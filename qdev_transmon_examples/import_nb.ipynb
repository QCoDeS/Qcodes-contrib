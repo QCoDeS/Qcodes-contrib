{
 "cells": [
  {
   "cell_type": "code",
   "execution_count": null,
   "metadata": {
    "collapsed": true
   },
   "outputs": [],
   "source": [
    "import qcodes as qc\n",
    "import numpy as np\n",
    "import sys\n",
    "%matplotlib nbagg\n",
    "\n",
    "helper_fns_folder = '/Users/Natalie/Documents/PhD/Qdev/QcodesRelated/HelperScripts'# r'C:\\Users\\qcodes-natalie\\Qcodes-contrib' # TODO: enter path to transmon helper folder\n",
    "if helper_fns_folder not in sys.path:\n",
    "    sys.path.insert(0, helper_fns_folder)\n",
    "\n",
    "from qdev_transmon_helpers import *"
   ]
  }
 ],
 "metadata": {
  "kernelspec": {
   "display_name": "Python 3",
   "language": "python",
   "name": "python3"
  },
  "language_info": {
   "codemirror_mode": {
    "name": "ipython",
    "version": 3
   },
   "file_extension": ".py",
   "mimetype": "text/x-python",
   "name": "python",
   "nbconvert_exporter": "python",
   "pygments_lexer": "ipython3",
   "version": "3.5.3"
  }
 },
 "nbformat": 4,
 "nbformat_minor": 2
}
